{
 "cells": [
  {
   "cell_type": "code",
   "id": "initial_id",
   "metadata": {
    "collapsed": true,
    "ExecuteTime": {
     "end_time": "2024-05-12T12:41:15.001094Z",
     "start_time": "2024-05-12T12:41:09.315654Z"
    }
   },
   "source": "import torch",
   "outputs": [],
   "execution_count": 1
  },
  {
   "metadata": {
    "ExecuteTime": {
     "end_time": "2024-05-12T12:45:14.722323Z",
     "start_time": "2024-05-12T12:45:14.706658Z"
    }
   },
   "cell_type": "code",
   "source": "from models import LAMRGModel_v12",
   "id": "bb5086894ed75b84",
   "outputs": [],
   "execution_count": 8
  },
  {
   "metadata": {
    "ExecuteTime": {
     "end_time": "2024-05-12T12:47:31.451028Z",
     "start_time": "2024-05-12T12:47:31.444108Z"
    }
   },
   "cell_type": "code",
   "source": "from modules.tokenizers import Tokenizer",
   "id": "7251008a39e847bb",
   "outputs": [],
   "execution_count": 9
  },
  {
   "metadata": {
    "ExecuteTime": {
     "end_time": "2024-05-12T12:51:58.574859Z",
     "start_time": "2024-05-12T12:51:58.567503Z"
    }
   },
   "cell_type": "code",
   "source": [
    "from argparse import Namespace\n",
    "args = Namespace(image_dir='data/mimic/r2gen/images/images224/files', ann_path='data/mimic/r2gen/images/images224/annotation.json', label_path='data/mimic/finding/chexpert_labeled.csv', image_size=256, crop_size=224, dataset_name='mimic_cxr', max_seq_length=80, threshold=3, num_workers=4, batch_size=16, version='12', visual_extractor='resnet101', visual_extractor_pretrained=True, pretrain_cnn_file=None, d_model=512, d_ff=512, d_vf=2048, num_heads=8, num_memory_heads=8, num_layers=3, num_labels=14, dropout=0.1, logit_layers=1, bos_idx=0, eos_idx=0, pad_idx=0, use_bn=0, drop_prob_lm=0.1, sample_method='beam_search', beam_size=3, temperature=1.0, sample_n=1, group_size=1, output_logsoftmax=1, decoding_constraint=0, block_trigrams=1, n_gpu=1, epochs=30, save_dir='results\\\\mimic_cxr\\\\V12_resnet101_labelloss_rankloss_10th_try_balanced_train_20240329-235144', expe_name='10th_try_balanced_train', record_dir='records/', save_period=1, monitor_mode='max', monitor_metric='BLEU_4', early_stop=50, label_smoothing=0.1, alpha=0.5, grad_clip=5, test_steps=500, label_loss=True, rank_loss=True, optim='Adam', lr_ve=5e-05, lr_ed=0.0001, weight_decay=5e-05, amsgrad=True, lr_scheduler='StepLR', step_size=1, gamma=0.8, seed=456789, gpu='0', resume=None, num_slots=60, rm_num_heads=8, rm_d_model=512, cfg='config/mimic_resnet.yml', set_cfgs=[])"
   ],
   "id": "cff54f70cefea058",
   "outputs": [],
   "execution_count": 10
  },
  {
   "metadata": {
    "ExecuteTime": {
     "end_time": "2024-05-12T12:53:06.089980Z",
     "start_time": "2024-05-12T12:52:57.935334Z"
    }
   },
   "cell_type": "code",
   "source": [
    "tokenizer = Tokenizer(args)\n",
    "model = LAMRGModel_v12(args, tokenizer)"
   ],
   "id": "10ec03e41196e880",
   "outputs": [
    {
     "name": "stdout",
     "output_type": "stream",
     "text": [
      "=> creating model 'resnet101'\n"
     ]
    },
    {
     "name": "stderr",
     "output_type": "stream",
     "text": [
      "C:\\Users\\super\\AppData\\Local\\Programs\\Python\\Python312\\Lib\\site-packages\\torchvision\\models\\_utils.py:208: UserWarning: The parameter 'pretrained' is deprecated since 0.13 and may be removed in the future, please use 'weights' instead.\n",
      "  warnings.warn(\n",
      "C:\\Users\\super\\AppData\\Local\\Programs\\Python\\Python312\\Lib\\site-packages\\torchvision\\models\\_utils.py:223: UserWarning: Arguments other than a weight enum or `None` for 'weights' are deprecated since 0.13 and may be removed in the future. The current behavior is equivalent to passing `weights=ResNet101_Weights.IMAGENET1K_V1`. You can also use `weights=ResNet101_Weights.DEFAULT` to get the most up-to-date weights.\n",
      "  warnings.warn(msg)\n"
     ]
    },
    {
     "name": "stdout",
     "output_type": "stream",
     "text": [
      "Load pretrained CNN model from: official pretrained in ImageNet\n"
     ]
    }
   ],
   "execution_count": 11
  },
  {
   "metadata": {
    "ExecuteTime": {
     "end_time": "2024-05-12T12:55:35.267453Z",
     "start_time": "2024-05-12T12:55:23.437860Z"
    }
   },
   "cell_type": "code",
   "source": [
    "import os\n",
    "best = torch.load(os.path.join('results/mimic_cxr/V12_resnet101_labelloss_rankloss_10th_try_balanced_train_20240329-235144/model_best.pth'))"
   ],
   "id": "e65b8f52054ee0ea",
   "outputs": [],
   "execution_count": 14
  },
  {
   "metadata": {
    "ExecuteTime": {
     "end_time": "2024-05-12T12:57:07.475812Z",
     "start_time": "2024-05-12T12:57:07.471554Z"
    }
   },
   "cell_type": "code",
   "source": "best.keys()",
   "id": "2de55c66df427461",
   "outputs": [
    {
     "data": {
      "text/plain": [
       "dict_keys(['epoch', 'state_dict', 'optimizer', 'monitor_best'])"
      ]
     },
     "execution_count": 19,
     "metadata": {},
     "output_type": "execute_result"
    }
   ],
   "execution_count": 19
  },
  {
   "metadata": {
    "ExecuteTime": {
     "end_time": "2024-05-12T12:59:35.123128Z",
     "start_time": "2024-05-12T12:59:34.921330Z"
    }
   },
   "cell_type": "code",
   "source": "model.load_state_dict(best['state_dict'])",
   "id": "31a7d9001465a3c6",
   "outputs": [
    {
     "data": {
      "text/plain": [
       "<All keys matched successfully>"
      ]
     },
     "execution_count": 20,
     "metadata": {},
     "output_type": "execute_result"
    }
   ],
   "execution_count": 20
  },
  {
   "metadata": {
    "ExecuteTime": {
     "end_time": "2024-05-12T13:00:00.769282Z",
     "start_time": "2024-05-12T12:59:59.297208Z"
    }
   },
   "cell_type": "code",
   "source": [
    "model_scripted = torch.jit.script(model) # Export to TorchScript\n",
    "model_scripted.save('best_mimic_model_scripted.pt') # Save"
   ],
   "id": "605c696230bbe846",
   "outputs": [
    {
     "name": "stderr",
     "output_type": "stream",
     "text": [
      "<unknown>:6: SyntaxWarning: invalid escape sequence '\\['\n",
      "<unknown>:10: SyntaxWarning: invalid escape sequence '\\['\n",
      "<unknown>:40: SyntaxWarning: invalid escape sequence '\\['\n",
      "<unknown>:55: SyntaxWarning: invalid escape sequence '\\['\n",
      "<unknown>:35: SyntaxWarning: invalid escape sequence '\\['\n",
      "<unknown>:50: SyntaxWarning: invalid escape sequence '\\['\n",
      "<unknown>:6: SyntaxWarning: invalid escape sequence '\\['\n",
      "<unknown>:6: SyntaxWarning: invalid escape sequence '\\['\n",
      "<unknown>:10: SyntaxWarning: invalid escape sequence '\\['\n",
      "<unknown>:40: SyntaxWarning: invalid escape sequence '\\['\n",
      "<unknown>:55: SyntaxWarning: invalid escape sequence '\\['\n",
      "<unknown>:35: SyntaxWarning: invalid escape sequence '\\['\n",
      "<unknown>:50: SyntaxWarning: invalid escape sequence '\\['\n",
      "<unknown>:6: SyntaxWarning: invalid escape sequence '\\['\n",
      "<unknown>:6: SyntaxWarning: invalid escape sequence '\\['\n",
      "<unknown>:10: SyntaxWarning: invalid escape sequence '\\['\n",
      "<unknown>:40: SyntaxWarning: invalid escape sequence '\\['\n",
      "<unknown>:55: SyntaxWarning: invalid escape sequence '\\['\n",
      "<unknown>:35: SyntaxWarning: invalid escape sequence '\\['\n",
      "<unknown>:50: SyntaxWarning: invalid escape sequence '\\['\n",
      "<unknown>:6: SyntaxWarning: invalid escape sequence '\\['\n"
     ]
    },
    {
     "ename": "RuntimeError",
     "evalue": "\nModule 'VisualExtractor' has no attribute 'args' (This attribute exists on the Python module, but we failed to convert Python type: 'argparse.Namespace' to a TorchScript type. Only tensors and (possibly nested) tuples of tensors, lists, or dictsare supported as inputs or outputs of traced functions, but instead got value of type Namespace.. Its type was inferred; try adding a type annotation for the attribute.):\n  File \"D:\\Py\\M2KT\\modules\\visual_extractor.py\", line 78\n    def forward(self, images):\n        if self.args.visual_extractor == 'densenet':\n           ~~~~~~~~~ <--- HERE\n            patch_feats = self.model.densenet121.features(images)\n            avg_feats = self.avg_fnt(patch_feats).squeeze().reshape(-1, patch_feats.size(1))\n",
     "output_type": "error",
     "traceback": [
      "\u001B[1;31m---------------------------------------------------------------------------\u001B[0m",
      "\u001B[1;31mRuntimeError\u001B[0m                              Traceback (most recent call last)",
      "Cell \u001B[1;32mIn[22], line 1\u001B[0m\n\u001B[1;32m----> 1\u001B[0m model_scripted \u001B[38;5;241m=\u001B[39m \u001B[43mtorch\u001B[49m\u001B[38;5;241;43m.\u001B[39;49m\u001B[43mjit\u001B[49m\u001B[38;5;241;43m.\u001B[39;49m\u001B[43mscript\u001B[49m\u001B[43m(\u001B[49m\u001B[43mmodel\u001B[49m\u001B[43m)\u001B[49m \u001B[38;5;66;03m# Export to TorchScript\u001B[39;00m\n\u001B[0;32m      2\u001B[0m model_scripted\u001B[38;5;241m.\u001B[39msave(\u001B[38;5;124m'\u001B[39m\u001B[38;5;124mbest_mimic_model_scripted.pt\u001B[39m\u001B[38;5;124m'\u001B[39m) \u001B[38;5;66;03m# Save\u001B[39;00m\n",
      "File \u001B[1;32m~\\AppData\\Local\\Programs\\Python\\Python312\\Lib\\site-packages\\torch\\jit\\_script.py:1338\u001B[0m, in \u001B[0;36mscript\u001B[1;34m(obj, optimize, _frames_up, _rcb, example_inputs)\u001B[0m\n\u001B[0;32m   1336\u001B[0m \u001B[38;5;28;01mif\u001B[39;00m \u001B[38;5;28misinstance\u001B[39m(obj, torch\u001B[38;5;241m.\u001B[39mnn\u001B[38;5;241m.\u001B[39mModule):\n\u001B[0;32m   1337\u001B[0m     obj \u001B[38;5;241m=\u001B[39m call_prepare_scriptable_func(obj)\n\u001B[1;32m-> 1338\u001B[0m     \u001B[38;5;28;01mreturn\u001B[39;00m \u001B[43mtorch\u001B[49m\u001B[38;5;241;43m.\u001B[39;49m\u001B[43mjit\u001B[49m\u001B[38;5;241;43m.\u001B[39;49m\u001B[43m_recursive\u001B[49m\u001B[38;5;241;43m.\u001B[39;49m\u001B[43mcreate_script_module\u001B[49m\u001B[43m(\u001B[49m\n\u001B[0;32m   1339\u001B[0m \u001B[43m        \u001B[49m\u001B[43mobj\u001B[49m\u001B[43m,\u001B[49m\u001B[43m \u001B[49m\u001B[43mtorch\u001B[49m\u001B[38;5;241;43m.\u001B[39;49m\u001B[43mjit\u001B[49m\u001B[38;5;241;43m.\u001B[39;49m\u001B[43m_recursive\u001B[49m\u001B[38;5;241;43m.\u001B[39;49m\u001B[43minfer_methods_to_compile\u001B[49m\n\u001B[0;32m   1340\u001B[0m \u001B[43m    \u001B[49m\u001B[43m)\u001B[49m\n\u001B[0;32m   1341\u001B[0m \u001B[38;5;28;01melse\u001B[39;00m:\n\u001B[0;32m   1342\u001B[0m     obj \u001B[38;5;241m=\u001B[39m obj\u001B[38;5;241m.\u001B[39m__prepare_scriptable__() \u001B[38;5;28;01mif\u001B[39;00m \u001B[38;5;28mhasattr\u001B[39m(obj, \u001B[38;5;124m\"\u001B[39m\u001B[38;5;124m__prepare_scriptable__\u001B[39m\u001B[38;5;124m\"\u001B[39m) \u001B[38;5;28;01melse\u001B[39;00m obj  \u001B[38;5;66;03m# type: ignore[operator]\u001B[39;00m\n",
      "File \u001B[1;32m~\\AppData\\Local\\Programs\\Python\\Python312\\Lib\\site-packages\\torch\\jit\\_recursive.py:558\u001B[0m, in \u001B[0;36mcreate_script_module\u001B[1;34m(nn_module, stubs_fn, share_types, is_tracing)\u001B[0m\n\u001B[0;32m    556\u001B[0m \u001B[38;5;28;01mif\u001B[39;00m \u001B[38;5;129;01mnot\u001B[39;00m is_tracing:\n\u001B[0;32m    557\u001B[0m     AttributeTypeIsSupportedChecker()\u001B[38;5;241m.\u001B[39mcheck(nn_module)\n\u001B[1;32m--> 558\u001B[0m \u001B[38;5;28;01mreturn\u001B[39;00m \u001B[43mcreate_script_module_impl\u001B[49m\u001B[43m(\u001B[49m\u001B[43mnn_module\u001B[49m\u001B[43m,\u001B[49m\u001B[43m \u001B[49m\u001B[43mconcrete_type\u001B[49m\u001B[43m,\u001B[49m\u001B[43m \u001B[49m\u001B[43mstubs_fn\u001B[49m\u001B[43m)\u001B[49m\n",
      "File \u001B[1;32m~\\AppData\\Local\\Programs\\Python\\Python312\\Lib\\site-packages\\torch\\jit\\_recursive.py:631\u001B[0m, in \u001B[0;36mcreate_script_module_impl\u001B[1;34m(nn_module, concrete_type, stubs_fn)\u001B[0m\n\u001B[0;32m    628\u001B[0m     script_module\u001B[38;5;241m.\u001B[39m_concrete_type \u001B[38;5;241m=\u001B[39m concrete_type\n\u001B[0;32m    630\u001B[0m \u001B[38;5;66;03m# Actually create the ScriptModule, initializing it with the function we just defined\u001B[39;00m\n\u001B[1;32m--> 631\u001B[0m script_module \u001B[38;5;241m=\u001B[39m \u001B[43mtorch\u001B[49m\u001B[38;5;241;43m.\u001B[39;49m\u001B[43mjit\u001B[49m\u001B[38;5;241;43m.\u001B[39;49m\u001B[43mRecursiveScriptModule\u001B[49m\u001B[38;5;241;43m.\u001B[39;49m\u001B[43m_construct\u001B[49m\u001B[43m(\u001B[49m\u001B[43mcpp_module\u001B[49m\u001B[43m,\u001B[49m\u001B[43m \u001B[49m\u001B[43minit_fn\u001B[49m\u001B[43m)\u001B[49m\n\u001B[0;32m    633\u001B[0m \u001B[38;5;66;03m# Compile methods if necessary\u001B[39;00m\n\u001B[0;32m    634\u001B[0m \u001B[38;5;28;01mif\u001B[39;00m concrete_type \u001B[38;5;129;01mnot\u001B[39;00m \u001B[38;5;129;01min\u001B[39;00m concrete_type_store\u001B[38;5;241m.\u001B[39mmethods_compiled:\n",
      "File \u001B[1;32m~\\AppData\\Local\\Programs\\Python\\Python312\\Lib\\site-packages\\torch\\jit\\_script.py:647\u001B[0m, in \u001B[0;36mRecursiveScriptModule._construct\u001B[1;34m(cpp_module, init_fn)\u001B[0m\n\u001B[0;32m    633\u001B[0m \u001B[38;5;250m\u001B[39m\u001B[38;5;124;03m\"\"\"\u001B[39;00m\n\u001B[0;32m    634\u001B[0m \u001B[38;5;124;03mConstruct a RecursiveScriptModule that's ready for use.\u001B[39;00m\n\u001B[0;32m    635\u001B[0m \n\u001B[1;32m   (...)\u001B[0m\n\u001B[0;32m    644\u001B[0m \u001B[38;5;124;03m    init_fn:  Lambda that initializes the RecursiveScriptModule passed to it.\u001B[39;00m\n\u001B[0;32m    645\u001B[0m \u001B[38;5;124;03m\"\"\"\u001B[39;00m\n\u001B[0;32m    646\u001B[0m script_module \u001B[38;5;241m=\u001B[39m RecursiveScriptModule(cpp_module)\n\u001B[1;32m--> 647\u001B[0m \u001B[43minit_fn\u001B[49m\u001B[43m(\u001B[49m\u001B[43mscript_module\u001B[49m\u001B[43m)\u001B[49m\n\u001B[0;32m    649\u001B[0m \u001B[38;5;66;03m# Finalize the ScriptModule: replace the nn.Module state with our\u001B[39;00m\n\u001B[0;32m    650\u001B[0m \u001B[38;5;66;03m# custom implementations and flip the _initializing bit.\u001B[39;00m\n\u001B[0;32m    651\u001B[0m RecursiveScriptModule\u001B[38;5;241m.\u001B[39m_finalize_scriptmodule(script_module)\n",
      "File \u001B[1;32m~\\AppData\\Local\\Programs\\Python\\Python312\\Lib\\site-packages\\torch\\jit\\_recursive.py:607\u001B[0m, in \u001B[0;36mcreate_script_module_impl.<locals>.init_fn\u001B[1;34m(script_module)\u001B[0m\n\u001B[0;32m    604\u001B[0m     scripted \u001B[38;5;241m=\u001B[39m orig_value\n\u001B[0;32m    605\u001B[0m \u001B[38;5;28;01melse\u001B[39;00m:\n\u001B[0;32m    606\u001B[0m     \u001B[38;5;66;03m# always reuse the provided stubs_fn to infer the methods to compile\u001B[39;00m\n\u001B[1;32m--> 607\u001B[0m     scripted \u001B[38;5;241m=\u001B[39m \u001B[43mcreate_script_module_impl\u001B[49m\u001B[43m(\u001B[49m\n\u001B[0;32m    608\u001B[0m \u001B[43m        \u001B[49m\u001B[43morig_value\u001B[49m\u001B[43m,\u001B[49m\u001B[43m \u001B[49m\u001B[43msub_concrete_type\u001B[49m\u001B[43m,\u001B[49m\u001B[43m \u001B[49m\u001B[43mstubs_fn\u001B[49m\n\u001B[0;32m    609\u001B[0m \u001B[43m    \u001B[49m\u001B[43m)\u001B[49m\n\u001B[0;32m    611\u001B[0m cpp_module\u001B[38;5;241m.\u001B[39msetattr(name, scripted)\n\u001B[0;32m    612\u001B[0m script_module\u001B[38;5;241m.\u001B[39m_modules[name] \u001B[38;5;241m=\u001B[39m scripted\n",
      "File \u001B[1;32m~\\AppData\\Local\\Programs\\Python\\Python312\\Lib\\site-packages\\torch\\jit\\_recursive.py:635\u001B[0m, in \u001B[0;36mcreate_script_module_impl\u001B[1;34m(nn_module, concrete_type, stubs_fn)\u001B[0m\n\u001B[0;32m    633\u001B[0m \u001B[38;5;66;03m# Compile methods if necessary\u001B[39;00m\n\u001B[0;32m    634\u001B[0m \u001B[38;5;28;01mif\u001B[39;00m concrete_type \u001B[38;5;129;01mnot\u001B[39;00m \u001B[38;5;129;01min\u001B[39;00m concrete_type_store\u001B[38;5;241m.\u001B[39mmethods_compiled:\n\u001B[1;32m--> 635\u001B[0m     \u001B[43mcreate_methods_and_properties_from_stubs\u001B[49m\u001B[43m(\u001B[49m\n\u001B[0;32m    636\u001B[0m \u001B[43m        \u001B[49m\u001B[43mconcrete_type\u001B[49m\u001B[43m,\u001B[49m\u001B[43m \u001B[49m\u001B[43mmethod_stubs\u001B[49m\u001B[43m,\u001B[49m\u001B[43m \u001B[49m\u001B[43mproperty_stubs\u001B[49m\n\u001B[0;32m    637\u001B[0m \u001B[43m    \u001B[49m\u001B[43m)\u001B[49m\n\u001B[0;32m    638\u001B[0m     \u001B[38;5;66;03m# Create hooks after methods to ensure no name collisions between hooks and methods.\u001B[39;00m\n\u001B[0;32m    639\u001B[0m     \u001B[38;5;66;03m# If done before, hooks can overshadow methods that aren't exported.\u001B[39;00m\n\u001B[0;32m    640\u001B[0m     create_hooks_from_stubs(concrete_type, hook_stubs, pre_hook_stubs)\n",
      "File \u001B[1;32m~\\AppData\\Local\\Programs\\Python\\Python312\\Lib\\site-packages\\torch\\jit\\_recursive.py:467\u001B[0m, in \u001B[0;36mcreate_methods_and_properties_from_stubs\u001B[1;34m(concrete_type, method_stubs, property_stubs)\u001B[0m\n\u001B[0;32m    464\u001B[0m property_defs \u001B[38;5;241m=\u001B[39m [p\u001B[38;5;241m.\u001B[39mdef_ \u001B[38;5;28;01mfor\u001B[39;00m p \u001B[38;5;129;01min\u001B[39;00m property_stubs]\n\u001B[0;32m    465\u001B[0m property_rcbs \u001B[38;5;241m=\u001B[39m [p\u001B[38;5;241m.\u001B[39mresolution_callback \u001B[38;5;28;01mfor\u001B[39;00m p \u001B[38;5;129;01min\u001B[39;00m property_stubs]\n\u001B[1;32m--> 467\u001B[0m \u001B[43mconcrete_type\u001B[49m\u001B[38;5;241;43m.\u001B[39;49m\u001B[43m_create_methods_and_properties\u001B[49m\u001B[43m(\u001B[49m\n\u001B[0;32m    468\u001B[0m \u001B[43m    \u001B[49m\u001B[43mproperty_defs\u001B[49m\u001B[43m,\u001B[49m\u001B[43m \u001B[49m\u001B[43mproperty_rcbs\u001B[49m\u001B[43m,\u001B[49m\u001B[43m \u001B[49m\u001B[43mmethod_defs\u001B[49m\u001B[43m,\u001B[49m\u001B[43m \u001B[49m\u001B[43mmethod_rcbs\u001B[49m\u001B[43m,\u001B[49m\u001B[43m \u001B[49m\u001B[43mmethod_defaults\u001B[49m\n\u001B[0;32m    469\u001B[0m \u001B[43m\u001B[49m\u001B[43m)\u001B[49m\n",
      "\u001B[1;31mRuntimeError\u001B[0m: \nModule 'VisualExtractor' has no attribute 'args' (This attribute exists on the Python module, but we failed to convert Python type: 'argparse.Namespace' to a TorchScript type. Only tensors and (possibly nested) tuples of tensors, lists, or dictsare supported as inputs or outputs of traced functions, but instead got value of type Namespace.. Its type was inferred; try adding a type annotation for the attribute.):\n  File \"D:\\Py\\M2KT\\modules\\visual_extractor.py\", line 78\n    def forward(self, images):\n        if self.args.visual_extractor == 'densenet':\n           ~~~~~~~~~ <--- HERE\n            patch_feats = self.model.densenet121.features(images)\n            avg_feats = self.avg_fnt(patch_feats).squeeze().reshape(-1, patch_feats.size(1))\n"
     ]
    }
   ],
   "execution_count": 22
  }
 ],
 "metadata": {
  "kernelspec": {
   "display_name": "Python 3",
   "language": "python",
   "name": "python3"
  },
  "language_info": {
   "codemirror_mode": {
    "name": "ipython",
    "version": 2
   },
   "file_extension": ".py",
   "mimetype": "text/x-python",
   "name": "python",
   "nbconvert_exporter": "python",
   "pygments_lexer": "ipython2",
   "version": "2.7.6"
  }
 },
 "nbformat": 4,
 "nbformat_minor": 5
}
